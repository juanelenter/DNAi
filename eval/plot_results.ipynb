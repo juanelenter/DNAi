{
 "cells": [
  {
   "cell_type": "code",
   "execution_count": 34,
   "metadata": {},
   "outputs": [],
   "source": [
    "import numpy as np \n",
    "import matplotlib.pyplot as plt \n",
    "from fetching import fetcher\n",
    "import pandas as pd \n",
    "\n",
    "def get_results(project, metrics = [\"r_test\", \"r_train\"], params = [\"model\", \"coding\", \"n_feno/env\"]):\n",
    "\n",
    "    fet = fetcher(project = project)\n",
    "    results = fet.get_results(metrics, params)\n",
    "\n",
    "    return results"
   ]
  },
  {
   "cell_type": "code",
   "execution_count": 35,
   "metadata": {},
   "outputs": [
    {
     "name": "stdout",
     "output_type": "stream",
     "text": [
      "Fetching ['r_test', 'r_train'] and ['model', 'coding', 'n_feno/env']\n",
      "Project yeast-final\n",
      "fetching experiments\n",
      "fetching experiment keys\n"
     ]
    }
   ],
   "source": [
    "R = get_results([\"yeast-final\"])"
   ]
  },
  {
   "cell_type": "code",
   "execution_count": 32,
   "metadata": {},
   "outputs": [
    {
     "name": "stdout",
     "output_type": "stream",
     "text": [
      "        database                     experimentKey    coding n_feno/env  \\\n",
      "0    yeast-final  d4142e208196464fa0a5a27929b42180  no_codif          3   \n",
      "1    yeast-final  d4142e208196464fa0a5a27929b42180  no_codif          3   \n",
      "2    yeast-final  d4142e208196464fa0a5a27929b42180  no_codif          3   \n",
      "3    yeast-final  d4142e208196464fa0a5a27929b42180  no_codif          3   \n",
      "4    yeast-final  d4142e208196464fa0a5a27929b42180  no_codif          3   \n",
      "..           ...                               ...       ...        ...   \n",
      "925  yeast-final  e0bdb0f0b97e403e92e56d6a62ead422  no_codif          9   \n",
      "926  yeast-final  e0bdb0f0b97e403e92e56d6a62ead422  no_codif          9   \n",
      "927  yeast-final  e0bdb0f0b97e403e92e56d6a62ead422  no_codif          9   \n",
      "928  yeast-final  e0bdb0f0b97e403e92e56d6a62ead422  no_codif          9   \n",
      "929  yeast-final  e0bdb0f0b97e403e92e56d6a62ead422  no_codif          9   \n",
      "\n",
      "     model metricName     value  step  \n",
      "0    ridge     r_test  0.646673     0  \n",
      "1    ridge     r_test  0.660507     1  \n",
      "2    ridge     r_test  0.623584     2  \n",
      "3    ridge     r_test  0.680394     3  \n",
      "4    ridge     r_test  0.654133     4  \n",
      "..     ...        ...       ...   ...  \n",
      "925  ridge     r_test  0.700904     5  \n",
      "926  ridge     r_test  0.650347     6  \n",
      "927  ridge     r_test  0.605045     7  \n",
      "928  ridge     r_test  0.731608     8  \n",
      "929  ridge     r_test  0.747666     9  \n",
      "\n",
      "[120 rows x 8 columns]\n"
     ]
    }
   ],
   "source": [
    "print(R[ (R[\"metricName\"] == \"r_test\") & (R[\"model\"] == \"ridge\")])"
   ]
  },
  {
   "cell_type": "code",
   "execution_count": 58,
   "metadata": {},
   "outputs": [],
   "source": [
    "R_tests_mean = {}\n",
    "i = 0\n",
    "for model in [\"gbm\", \"rf\", \"svm\", \"ridge\"]:\n",
    "    for n_feno in range(int(R[\"n_feno/env\"].max()) + 1):\n",
    "        rr = R[(R[\"metricName\"] == \"r_test\") & (R[\"model\"] == model) & (R[\"n_feno/env\"] == str(n_feno))]\n",
    "        try:\n",
    "            R_tests_mean[\"env_\" + str(n_feno)].append(np.round(rr[\"value\"].mean(), 2))\n",
    "        except:\n",
    "            R_tests_mean[\"env_\" + str(n_feno)] = [np.round(rr[\"value\"].mean(), 2)]"
   ]
  },
  {
   "cell_type": "code",
   "execution_count": 59,
   "metadata": {},
   "outputs": [],
   "source": [
    "R_df = pd.DataFrame(R_tests_mean, index = [\"gbm\", \"rf\", \"svm\", \"ridge\"])"
   ]
  },
  {
   "cell_type": "code",
   "execution_count": 61,
   "metadata": {},
   "outputs": [
    {
     "data": {
      "text/html": [
       "<div>\n",
       "<style scoped>\n",
       "    .dataframe tbody tr th:only-of-type {\n",
       "        vertical-align: middle;\n",
       "    }\n",
       "\n",
       "    .dataframe tbody tr th {\n",
       "        vertical-align: top;\n",
       "    }\n",
       "\n",
       "    .dataframe thead th {\n",
       "        text-align: right;\n",
       "    }\n",
       "</style>\n",
       "<table border=\"1\" class=\"dataframe\">\n",
       "  <thead>\n",
       "    <tr style=\"text-align: right;\">\n",
       "      <th></th>\n",
       "      <th>env_0</th>\n",
       "      <th>env_1</th>\n",
       "      <th>env_2</th>\n",
       "      <th>env_3</th>\n",
       "      <th>env_4</th>\n",
       "      <th>env_5</th>\n",
       "      <th>env_6</th>\n",
       "      <th>env_7</th>\n",
       "      <th>env_8</th>\n",
       "      <th>env_9</th>\n",
       "    </tr>\n",
       "  </thead>\n",
       "  <tbody>\n",
       "    <tr>\n",
       "      <th>gbm</th>\n",
       "      <td>0.81</td>\n",
       "      <td>0.73</td>\n",
       "      <td>0.71</td>\n",
       "      <td>0.68</td>\n",
       "      <td>0.73</td>\n",
       "      <td>0.46</td>\n",
       "      <td>0.82</td>\n",
       "      <td>0.87</td>\n",
       "      <td>0.77</td>\n",
       "      <td>0.78</td>\n",
       "    </tr>\n",
       "    <tr>\n",
       "      <th>rf</th>\n",
       "      <td>0.77</td>\n",
       "      <td>0.47</td>\n",
       "      <td>0.51</td>\n",
       "      <td>0.35</td>\n",
       "      <td>0.63</td>\n",
       "      <td>0.35</td>\n",
       "      <td>0.54</td>\n",
       "      <td>0.81</td>\n",
       "      <td>0.57</td>\n",
       "      <td>0.50</td>\n",
       "    </tr>\n",
       "    <tr>\n",
       "      <th>svm</th>\n",
       "      <td>0.74</td>\n",
       "      <td>0.68</td>\n",
       "      <td>0.67</td>\n",
       "      <td>0.69</td>\n",
       "      <td>0.67</td>\n",
       "      <td>0.41</td>\n",
       "      <td>0.77</td>\n",
       "      <td>0.70</td>\n",
       "      <td>0.76</td>\n",
       "      <td>0.76</td>\n",
       "    </tr>\n",
       "    <tr>\n",
       "      <th>ridge</th>\n",
       "      <td>0.51</td>\n",
       "      <td>0.61</td>\n",
       "      <td>0.60</td>\n",
       "      <td>0.64</td>\n",
       "      <td>0.62</td>\n",
       "      <td>0.39</td>\n",
       "      <td>0.73</td>\n",
       "      <td>0.61</td>\n",
       "      <td>0.71</td>\n",
       "      <td>0.69</td>\n",
       "    </tr>\n",
       "  </tbody>\n",
       "</table>\n",
       "</div>"
      ],
      "text/plain": [
       "       env_0  env_1  env_2  env_3  env_4  env_5  env_6  env_7  env_8  env_9\n",
       "gbm     0.81   0.73   0.71   0.68   0.73   0.46   0.82   0.87   0.77   0.78\n",
       "rf      0.77   0.47   0.51   0.35   0.63   0.35   0.54   0.81   0.57   0.50\n",
       "svm     0.74   0.68   0.67   0.69   0.67   0.41   0.77   0.70   0.76   0.76\n",
       "ridge   0.51   0.61   0.60   0.64   0.62   0.39   0.73   0.61   0.71   0.69"
      ]
     },
     "execution_count": 61,
     "metadata": {},
     "output_type": "execute_result"
    }
   ],
   "source": [
    "R_df"
   ]
  },
  {
   "cell_type": "code",
   "execution_count": 68,
   "metadata": {},
   "outputs": [
    {
     "data": {
      "text/html": [
       "<style  type=\"text/css\" >\n",
       "    #T_50393f9a_e0b6_11ea_8f62_6764b401c6darow0_col0 {\n",
       "            font-weight:  bold;\n",
       "        }    #T_50393f9a_e0b6_11ea_8f62_6764b401c6darow0_col1 {\n",
       "            font-weight:  bold;\n",
       "        }    #T_50393f9a_e0b6_11ea_8f62_6764b401c6darow0_col2 {\n",
       "            font-weight:  bold;\n",
       "        }    #T_50393f9a_e0b6_11ea_8f62_6764b401c6darow0_col4 {\n",
       "            font-weight:  bold;\n",
       "        }    #T_50393f9a_e0b6_11ea_8f62_6764b401c6darow0_col5 {\n",
       "            font-weight:  bold;\n",
       "        }    #T_50393f9a_e0b6_11ea_8f62_6764b401c6darow0_col6 {\n",
       "            font-weight:  bold;\n",
       "        }    #T_50393f9a_e0b6_11ea_8f62_6764b401c6darow0_col7 {\n",
       "            font-weight:  bold;\n",
       "        }    #T_50393f9a_e0b6_11ea_8f62_6764b401c6darow0_col8 {\n",
       "            font-weight:  bold;\n",
       "        }    #T_50393f9a_e0b6_11ea_8f62_6764b401c6darow0_col9 {\n",
       "            font-weight:  bold;\n",
       "        }    #T_50393f9a_e0b6_11ea_8f62_6764b401c6darow2_col3 {\n",
       "            font-weight:  bold;\n",
       "        }</style><table id=\"T_50393f9a_e0b6_11ea_8f62_6764b401c6da\" ><thead>    <tr>        <th class=\"blank level0\" ></th>        <th class=\"col_heading level0 col0\" >env_0</th>        <th class=\"col_heading level0 col1\" >env_1</th>        <th class=\"col_heading level0 col2\" >env_2</th>        <th class=\"col_heading level0 col3\" >env_3</th>        <th class=\"col_heading level0 col4\" >env_4</th>        <th class=\"col_heading level0 col5\" >env_5</th>        <th class=\"col_heading level0 col6\" >env_6</th>        <th class=\"col_heading level0 col7\" >env_7</th>        <th class=\"col_heading level0 col8\" >env_8</th>        <th class=\"col_heading level0 col9\" >env_9</th>    </tr></thead><tbody>\n",
       "                <tr>\n",
       "                        <th id=\"T_50393f9a_e0b6_11ea_8f62_6764b401c6dalevel0_row0\" class=\"row_heading level0 row0\" >gbm</th>\n",
       "                        <td id=\"T_50393f9a_e0b6_11ea_8f62_6764b401c6darow0_col0\" class=\"data row0 col0\" >0.810000</td>\n",
       "                        <td id=\"T_50393f9a_e0b6_11ea_8f62_6764b401c6darow0_col1\" class=\"data row0 col1\" >0.730000</td>\n",
       "                        <td id=\"T_50393f9a_e0b6_11ea_8f62_6764b401c6darow0_col2\" class=\"data row0 col2\" >0.710000</td>\n",
       "                        <td id=\"T_50393f9a_e0b6_11ea_8f62_6764b401c6darow0_col3\" class=\"data row0 col3\" >0.680000</td>\n",
       "                        <td id=\"T_50393f9a_e0b6_11ea_8f62_6764b401c6darow0_col4\" class=\"data row0 col4\" >0.730000</td>\n",
       "                        <td id=\"T_50393f9a_e0b6_11ea_8f62_6764b401c6darow0_col5\" class=\"data row0 col5\" >0.460000</td>\n",
       "                        <td id=\"T_50393f9a_e0b6_11ea_8f62_6764b401c6darow0_col6\" class=\"data row0 col6\" >0.820000</td>\n",
       "                        <td id=\"T_50393f9a_e0b6_11ea_8f62_6764b401c6darow0_col7\" class=\"data row0 col7\" >0.870000</td>\n",
       "                        <td id=\"T_50393f9a_e0b6_11ea_8f62_6764b401c6darow0_col8\" class=\"data row0 col8\" >0.770000</td>\n",
       "                        <td id=\"T_50393f9a_e0b6_11ea_8f62_6764b401c6darow0_col9\" class=\"data row0 col9\" >0.780000</td>\n",
       "            </tr>\n",
       "            <tr>\n",
       "                        <th id=\"T_50393f9a_e0b6_11ea_8f62_6764b401c6dalevel0_row1\" class=\"row_heading level0 row1\" >rf</th>\n",
       "                        <td id=\"T_50393f9a_e0b6_11ea_8f62_6764b401c6darow1_col0\" class=\"data row1 col0\" >0.770000</td>\n",
       "                        <td id=\"T_50393f9a_e0b6_11ea_8f62_6764b401c6darow1_col1\" class=\"data row1 col1\" >0.470000</td>\n",
       "                        <td id=\"T_50393f9a_e0b6_11ea_8f62_6764b401c6darow1_col2\" class=\"data row1 col2\" >0.510000</td>\n",
       "                        <td id=\"T_50393f9a_e0b6_11ea_8f62_6764b401c6darow1_col3\" class=\"data row1 col3\" >0.350000</td>\n",
       "                        <td id=\"T_50393f9a_e0b6_11ea_8f62_6764b401c6darow1_col4\" class=\"data row1 col4\" >0.630000</td>\n",
       "                        <td id=\"T_50393f9a_e0b6_11ea_8f62_6764b401c6darow1_col5\" class=\"data row1 col5\" >0.350000</td>\n",
       "                        <td id=\"T_50393f9a_e0b6_11ea_8f62_6764b401c6darow1_col6\" class=\"data row1 col6\" >0.540000</td>\n",
       "                        <td id=\"T_50393f9a_e0b6_11ea_8f62_6764b401c6darow1_col7\" class=\"data row1 col7\" >0.810000</td>\n",
       "                        <td id=\"T_50393f9a_e0b6_11ea_8f62_6764b401c6darow1_col8\" class=\"data row1 col8\" >0.570000</td>\n",
       "                        <td id=\"T_50393f9a_e0b6_11ea_8f62_6764b401c6darow1_col9\" class=\"data row1 col9\" >0.500000</td>\n",
       "            </tr>\n",
       "            <tr>\n",
       "                        <th id=\"T_50393f9a_e0b6_11ea_8f62_6764b401c6dalevel0_row2\" class=\"row_heading level0 row2\" >svm</th>\n",
       "                        <td id=\"T_50393f9a_e0b6_11ea_8f62_6764b401c6darow2_col0\" class=\"data row2 col0\" >0.740000</td>\n",
       "                        <td id=\"T_50393f9a_e0b6_11ea_8f62_6764b401c6darow2_col1\" class=\"data row2 col1\" >0.680000</td>\n",
       "                        <td id=\"T_50393f9a_e0b6_11ea_8f62_6764b401c6darow2_col2\" class=\"data row2 col2\" >0.670000</td>\n",
       "                        <td id=\"T_50393f9a_e0b6_11ea_8f62_6764b401c6darow2_col3\" class=\"data row2 col3\" >0.690000</td>\n",
       "                        <td id=\"T_50393f9a_e0b6_11ea_8f62_6764b401c6darow2_col4\" class=\"data row2 col4\" >0.670000</td>\n",
       "                        <td id=\"T_50393f9a_e0b6_11ea_8f62_6764b401c6darow2_col5\" class=\"data row2 col5\" >0.410000</td>\n",
       "                        <td id=\"T_50393f9a_e0b6_11ea_8f62_6764b401c6darow2_col6\" class=\"data row2 col6\" >0.770000</td>\n",
       "                        <td id=\"T_50393f9a_e0b6_11ea_8f62_6764b401c6darow2_col7\" class=\"data row2 col7\" >0.700000</td>\n",
       "                        <td id=\"T_50393f9a_e0b6_11ea_8f62_6764b401c6darow2_col8\" class=\"data row2 col8\" >0.760000</td>\n",
       "                        <td id=\"T_50393f9a_e0b6_11ea_8f62_6764b401c6darow2_col9\" class=\"data row2 col9\" >0.760000</td>\n",
       "            </tr>\n",
       "            <tr>\n",
       "                        <th id=\"T_50393f9a_e0b6_11ea_8f62_6764b401c6dalevel0_row3\" class=\"row_heading level0 row3\" >ridge</th>\n",
       "                        <td id=\"T_50393f9a_e0b6_11ea_8f62_6764b401c6darow3_col0\" class=\"data row3 col0\" >0.510000</td>\n",
       "                        <td id=\"T_50393f9a_e0b6_11ea_8f62_6764b401c6darow3_col1\" class=\"data row3 col1\" >0.610000</td>\n",
       "                        <td id=\"T_50393f9a_e0b6_11ea_8f62_6764b401c6darow3_col2\" class=\"data row3 col2\" >0.600000</td>\n",
       "                        <td id=\"T_50393f9a_e0b6_11ea_8f62_6764b401c6darow3_col3\" class=\"data row3 col3\" >0.640000</td>\n",
       "                        <td id=\"T_50393f9a_e0b6_11ea_8f62_6764b401c6darow3_col4\" class=\"data row3 col4\" >0.620000</td>\n",
       "                        <td id=\"T_50393f9a_e0b6_11ea_8f62_6764b401c6darow3_col5\" class=\"data row3 col5\" >0.390000</td>\n",
       "                        <td id=\"T_50393f9a_e0b6_11ea_8f62_6764b401c6darow3_col6\" class=\"data row3 col6\" >0.730000</td>\n",
       "                        <td id=\"T_50393f9a_e0b6_11ea_8f62_6764b401c6darow3_col7\" class=\"data row3 col7\" >0.610000</td>\n",
       "                        <td id=\"T_50393f9a_e0b6_11ea_8f62_6764b401c6darow3_col8\" class=\"data row3 col8\" >0.710000</td>\n",
       "                        <td id=\"T_50393f9a_e0b6_11ea_8f62_6764b401c6darow3_col9\" class=\"data row3 col9\" >0.690000</td>\n",
       "            </tr>\n",
       "    </tbody></table>"
      ],
      "text/plain": [
       "<pandas.io.formats.style.Styler at 0x7fd6cb8f3fd0>"
      ]
     },
     "execution_count": 68,
     "metadata": {},
     "output_type": "execute_result"
    }
   ],
   "source": [
    "def highlight_max(x):\n",
    "    return ['font-weight: bold' if v == x.max() else ''\n",
    "                for v in x]\n",
    "\n",
    "R_df.style.apply(highlight_max)"
   ]
  }
 ],
 "metadata": {
  "kernelspec": {
   "display_name": "Python 3",
   "language": "python",
   "name": "python3"
  },
  "language_info": {
   "codemirror_mode": {
    "name": "ipython",
    "version": 3
   },
   "file_extension": ".py",
   "mimetype": "text/x-python",
   "name": "python",
   "nbconvert_exporter": "python",
   "pygments_lexer": "ipython3",
   "version": "3.7.7"
  }
 },
 "nbformat": 4,
 "nbformat_minor": 4
}
