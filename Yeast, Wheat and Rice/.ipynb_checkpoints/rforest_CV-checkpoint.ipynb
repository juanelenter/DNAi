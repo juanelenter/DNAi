{
 "cells": [
  {
   "cell_type": "code",
   "execution_count": 1,
   "metadata": {
    "colab": {},
    "colab_type": "code",
    "id": "rRjOt85Ak-YV"
   },
   "outputs": [],
   "source": [
    "import pandas as pd\n",
    "import numpy as np\n",
    "import matplotlib.pyplot as plt\n",
    "\n",
    "from sklearn.model_selection import train_test_split\n",
    "from sklearn.preprocessing import StandardScaler\n",
    "from sklearn.metrics import r2_score\n",
    "from sklearn.metrics import mean_squared_error\n",
    "\n",
    "from sklearn.ensemble import RandomForestRegressor\n",
    "from sklearn.model_selection import RandomizedSearchCV\n",
    "\n",
    "from IPython.display import clear_output\n",
    "\n",
    "import time"
   ]
  },
  {
   "cell_type": "code",
   "execution_count": 2,
   "metadata": {
    "colab": {},
    "colab_type": "code",
    "id": "AnJvVQeqk-Ya"
   },
   "outputs": [],
   "source": [
    "pheno = pd.read_csv(r\"feno.txt\")\n",
    "geno = pd.read_csv(r\"geno.txt\")\n",
    "pheno_names = [\"Galactose\", \"YNB:ph3\"]\n",
    "pheno_12 = pheno[pheno_names]"
   ]
  },
  {
   "cell_type": "code",
   "execution_count": 0,
   "metadata": {
    "colab": {
     "base_uri": "https://localhost:8080/",
     "height": 85
    },
    "colab_type": "code",
    "id": "Rr1rr7XKgiJK",
    "outputId": "0fedff28-e5c6-4dd7-f7e5-0f3cd3e5eb2c"
   },
   "outputs": [
    {
     "name": "stdout",
     "output_type": "stream",
     "text": [
      "Fitting fenotype: Cadmium_Chloride (1 of 2).\n",
      "Fitting 3 folds for each of 15 candidates, totalling 45 fits\n"
     ]
    },
    {
     "name": "stderr",
     "output_type": "stream",
     "text": [
      "[Parallel(n_jobs=-1)]: Using backend LokyBackend with 2 concurrent workers.\n",
      "[Parallel(n_jobs=-1)]: Done   1 tasks      | elapsed:    4.7s\n"
     ]
    }
   ],
   "source": [
    "# Number of trees in random forest\n",
    "n_estimators = [int(x) for x in np.linspace(start = 300, stop = 800, num = 10)]\n",
    "# Number of features to consider at every split\n",
    "max_features = ['auto', 'sqrt']\n",
    "# Maximum number of levels in tree\n",
    "max_depth = [int(x) for x in np.linspace(75, 150, num = 11)]\n",
    "max_depth.append(None)\n",
    "# Minimum number of samples required to split a node\n",
    "min_samples_split = [2, 4, 6]\n",
    "# Minimum number of samples required at each leaf node\n",
    "min_samples_leaf = [1, 2, 3, 4]\n",
    "# Method of selecting samples for training each tree\n",
    "bootstrap = [True, False]\n",
    "\n",
    "  # Create the random grid\n",
    "random_grid = {'n_estimators': n_estimators,\n",
    "                'max_features': max_features,\n",
    "                'max_depth': max_depth,\n",
    "                'min_samples_split': min_samples_split,\n",
    "                'min_samples_leaf': min_samples_leaf,\n",
    "                'bootstrap': bootstrap}\n",
    "#params = []\n",
    "results = []\n",
    "t0 = time.time()\n",
    "i = 0\n",
    "for name, y in pheno_12.iteritems():\n",
    "  i += 1\n",
    "  clear_output(wait=True)\n",
    "  print('Fitting fenotype: {} ({} of {}).'.format(name, i, 2))\n",
    "  geno_c = geno.copy()\n",
    "  missing_phenos = y[ y.isnull() ].index.values\n",
    "  geno_c = geno_c.drop(missing_phenos, axis = 0)\n",
    "  y = y.drop(missing_phenos, axis = 0)\n",
    "  \n",
    "  X_train, X_test, y_train, y_test = train_test_split(geno_c, y, test_size=0.15)\n",
    "  X_train = X_train.drop(columns = [\"Unnamed: 0\"]).values\n",
    "  X_test = X_test.drop(columns = [\"Unnamed: 0\"]).values\n",
    "\n",
    "  y_train_std = (y_train - np.mean(y_train)) / np.std(y_train)\n",
    "  y_test_std = (y_test - np.mean(y_train)) / np.std(y_train)\n",
    "\n",
    "  rf = RandomForestRegressor()\n",
    "  # Random search of parameters, using 3 fold cross validation, \n",
    "  # search across 100 different combinations, and use all available cores\n",
    "  rf_random = RandomizedSearchCV(estimator = rf, param_distributions = random_grid, n_iter = 15, \\\n",
    "                                cv = 3, verbose=10, random_state=42, n_jobs = -1)\n",
    "  # Fit the random search model\n",
    "  rf_random.fit(X_train, y_train_std)\n",
    "\n",
    "  #params.append((pheno_names[i], rf_random.best_params_))\n",
    "  best_random = rf_random.best_estimator_\n",
    "  rf_predictions = best_random.predict(X_test)\n",
    "  r2 = r2_score(y_test_std, rf_predictions)\n",
    "  mse = mean_squared_error(y_test_std, rf_predictions)\n",
    "\n",
    "  results.append((pheno_names[i], rf_random.best_params_, r2, mse))\n",
    "\n",
    "t1 = time.time()"
   ]
  },
  {
   "cell_type": "code",
   "execution_count": 43,
   "metadata": {
    "colab": {
     "base_uri": "https://localhost:8080/",
     "height": 34
    },
    "colab_type": "code",
    "id": "Mhvm4ljan-B0",
    "outputId": "b136782e-a0d6-440e-ae74-c0ee23e6524c"
   },
   "outputs": [
    {
     "data": {
      "text/plain": [
       "(1008, 12)"
      ]
     },
     "execution_count": 43,
     "metadata": {
      "tags": []
     },
     "output_type": "execute_result"
    }
   ],
   "source": [
    "pheno_12.shape"
   ]
  }
 ],
 "metadata": {
  "accelerator": "TPU",
  "colab": {
   "collapsed_sections": [],
   "name": "rforest_CV.ipynb",
   "provenance": []
  },
  "kernelspec": {
   "display_name": "Python 3",
   "language": "python",
   "name": "python3"
  },
  "language_info": {
   "codemirror_mode": {
    "name": "ipython",
    "version": 3
   },
   "file_extension": ".py",
   "mimetype": "text/x-python",
   "name": "python",
   "nbconvert_exporter": "python",
   "pygments_lexer": "ipython3",
   "version": "3.7.3"
  }
 },
 "nbformat": 4,
 "nbformat_minor": 1
}
