{
 "cells": [
  {
   "cell_type": "code",
   "execution_count": 1,
   "metadata": {},
   "outputs": [],
   "source": [
    "import pandas as pd\n",
    "import numpy as np\n",
    "import matplotlib.pyplot as plt\n",
    "\n",
    "from sklearn.model_selection import train_test_split\n",
    "from sklearn.linear_model import RidgeCV, LassoCV, Lasso\n",
    "from sklearn.preprocessing import StandardScaler\n",
    "from sklearn.metrics import r2_score\n",
    "from sklearn.metrics import mean_squared_error\n",
    "from sklearn.svm import SVR"
   ]
  },
  {
   "cell_type": "code",
   "execution_count": 2,
   "metadata": {},
   "outputs": [],
   "source": [
    "import os.path\n",
    "\n",
    "my_path = os.path.abspath(os.path.dirname(os.path.abspath(\"__file__\")))\n",
    "path_pheno = os.path.join(my_path, \"grinberg_et_al_data/yeast/feno.txt\")\n",
    "path_geno = os.path.join(my_path, \"grinberg_et_al_data/yeast/geno.txt\")"
   ]
  },
  {
   "cell_type": "code",
   "execution_count": 4,
   "metadata": {},
   "outputs": [],
   "source": [
    "pheno = pd.read_csv('feno.txt')\n",
    "geno = pd.read_csv('geno.txt')\n",
    "traits = [\"Cadmium_Chloride\", 'Congo_red', 'Cycloheximide', 'Diamide',  'Ethanol', 'Hydroquinone', 'Lithium_Chloride',\n",
    "          'Maltose', 'Neomycin', 'Tunicamycin', \"Galactose\", \"YNB:ph3\"]\n"
   ]
  },
  {
   "cell_type": "code",
   "execution_count": 8,
   "metadata": {},
   "outputs": [],
   "source": [
    "def clean_data(X, Y):\n",
    "    missing_phenos = Y[ Y.isnull() ].index.values\n",
    "    X = geno.drop(columns = [\"Unnamed: 0\"])\n",
    "    X = X.drop( missing_phenos, axis = 0).values\n",
    "    Y = Y.drop(missing_phenos, axis = 0).values\n",
    "    #print(X.shape, Y.shape)\n",
    "    return X, Y\n",
    "    \n",
    "def split_n_scale(X, Y, ts = 0.15):\n",
    "    \"\"\"\n",
    "    Splits data into train and test. Also standarizes y. \n",
    "    \"\"\"\n",
    "    X_train, X_test, Y_train, Y_test = train_test_split(X, Y, test_size = ts)\n",
    "    \n",
    "    Y_train_std = (Y_train - np.mean(Y_train)) / np.std(Y_train)\n",
    "    Y_test_std = (Y_test - np.mean(Y_train)) / np.std(Y_train)\n",
    "    \n",
    "    return  X_train, X_test, Y_train_std, Y_test_std\n",
    "\n",
    "def train_n_test_lasso(X_train, X_test, Y_train_std, Y_test_std):\n",
    "    model = Lasso(alpha = 1000).fit(X_train, y_train_std)\n",
    "    y_pred = model.predict( X_test)\n",
    "    Mse = mean_squared_error( y_test_std, y_pred )\n",
    "    R2 = r2_score( y_test_std, y_pred )\n",
    "    return Mse, R2, 0\n",
    "\n",
    "def train_n_test_ridge(X_train, X_test, Y_train_std, Y_test_std):\n",
    "    model = RidgeCV(alphas = [1500, 1650, 1750, 2000, 2250, 2500, 2750, 3000, 3500], cv = 3).fit(X_train, y_train_std)\n",
    "    Alpha = model.alpha_\n",
    "    y_pred = model.predict( X_test)\n",
    "    Mse = mean_squared_error( y_test_std, y_pred )\n",
    "    R2 = r2_score( y_test_std, y_pred )\n",
    "    return Mse, R2, Alpha\n",
    "    \n",
    "\n",
    "# def train_n_test_svr(X_train, X_test, Y_train_std, Y_test_std):\n",
    "#     svr = SVR(kernel = \"rbf\", gamma = \"auto\", C = 1).fit(X_train, y_train_std)\n",
    "#     y_pred = svr.predict(X_test)\n",
    "#     Mse = mean_squared_error(y_pred, y_test_std)\n",
    "#     R2 = r2_score( y_test_std, y_pred )\n",
    "#     return Mse, R2"
   ]
  },
  {
   "cell_type": "code",
   "execution_count": 9,
   "metadata": {},
   "outputs": [
    {
     "name": "stdout",
     "output_type": "stream",
     "text": [
      " Cadmium_Chloride c'est fini \n",
      " \n",
      " Congo_red c'est fini \n",
      " \n",
      " Cycloheximide c'est fini \n",
      " \n",
      " Diamide c'est fini \n",
      " \n",
      " Ethanol c'est fini \n",
      " \n",
      " Hydroquinone c'est fini \n",
      " \n",
      " Lithium_Chloride c'est fini \n",
      " \n",
      " Maltose c'est fini \n",
      " \n",
      " Neomycin c'est fini \n",
      " \n",
      " Tunicamycin c'est fini \n",
      " \n",
      " Galactose c'est fini \n",
      " \n",
      " YNB:ph3 c'est fini \n",
      " \n"
     ]
    }
   ],
   "source": [
    "mses = np.zeros(len(traits))\n",
    "r2s = np.zeros(len(traits))\n",
    "alphas = np.zeros(len(traits))\n",
    "\n",
    "n = 1\n",
    "\n",
    "model_stats = np.empty((len(traits), 3))\n",
    "for j, t in enumerate(traits):\n",
    "    mses = 0\n",
    "    r2s = 0\n",
    "    alphas = []\n",
    "    for i in range(n):\n",
    "        x, y = clean_data(geno, pheno[t])\n",
    "        x_train, x_test, y_train_std, y_test_std = split_n_scale(x, y)\n",
    "        mse, r2, alpha = train_n_test_lasso( x_train, x_test, y_train_std, y_test_std )\n",
    "        mses += mse\n",
    "        r2s += r2\n",
    "        alphas.append(alpha)\n",
    "    print(f\" {t} c'est fini \\n \")\n",
    "    model_stats[j, 0] = np.median(alphas)\n",
    "    model_stats[j, 1] = mses / n\n",
    "    model_stats[j, 2] = r2s / n\n"
   ]
  },
  {
   "cell_type": "code",
   "execution_count": 10,
   "metadata": {},
   "outputs": [
    {
     "name": "stdout",
     "output_type": "stream",
     "text": [
      "[-2.21786812e-04 -3.28669842e-03 -1.08974937e-02 -1.51847213e-04\n",
      " -5.46712549e-03 -3.60641540e-03 -3.34980669e-03 -8.07711686e-03\n",
      " -2.75498509e-02 -5.37524119e-03 -5.71579963e-03 -5.11299202e-06]\n"
     ]
    }
   ],
   "source": [
    "r2_model = model_stats[:, 2]\n",
    "print(r2_model)"
   ]
  },
  {
   "cell_type": "code",
   "execution_count": null,
   "metadata": {},
   "outputs": [],
   "source": []
  }
 ],
 "metadata": {
  "kernelspec": {
   "display_name": "Python 3",
   "language": "python",
   "name": "python3"
  },
  "language_info": {
   "codemirror_mode": {
    "name": "ipython",
    "version": 3
   },
   "file_extension": ".py",
   "mimetype": "text/x-python",
   "name": "python",
   "nbconvert_exporter": "python",
   "pygments_lexer": "ipython3",
   "version": "3.7.5"
  }
 },
 "nbformat": 4,
 "nbformat_minor": 2
}
