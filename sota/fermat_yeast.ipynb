{
 "cells": [
  {
   "cell_type": "code",
   "execution_count": 1,
   "metadata": {
    "colab": {
     "base_uri": "https://localhost:8080/",
     "height": 121
    },
    "colab_type": "code",
    "id": "IOcrQSr49vDW",
    "outputId": "1662154e-a7a5-4c12-e437-0ebac6ae71af"
   },
   "outputs": [
    {
     "name": "stdout",
     "output_type": "stream",
     "text": [
      "Multicore TSNE not found\n",
      "Loading data...\n",
      "Preprocessing...\n",
      "1 of 46 environments processed (Cadmium_Chloride) | Normalization type : og.\n",
      "2 of 46 environments processed (Caffeine) | Normalization type : og.\n",
      "3 of 46 environments processed (Calcium_Chloride) | Normalization type : og.\n",
      "4 of 46 environments processed (Cisplatin) | Normalization type : og.\n",
      "5 of 46 environments processed (Cobalt_Chloride) | Normalization type : og.\n",
      "6 of 46 environments processed (Congo_red) | Normalization type : og.\n",
      "7 of 46 environments processed (Copper) | Normalization type : og.\n",
      "8 of 46 environments processed (Cycloheximide) | Normalization type : og.\n",
      "9 of 46 environments processed (Diamide) | Normalization type : og.\n",
      "10 of 46 environments processed (E6_Berbamine) | Normalization type : og.\n",
      "11 of 46 environments processed (Ethanol) | Normalization type : og.\n",
      "12 of 46 environments processed (Formamide) | Normalization type : og.\n",
      "13 of 46 environments processed (Galactose) | Normalization type : og.\n",
      "14 of 46 environments processed (Hydrogen_Peroxide) | Normalization type : og.\n",
      "15 of 46 environments processed (Hydroquinone) | Normalization type : og.\n",
      "16 of 46 environments processed (Hydroxyurea) | Normalization type : og.\n",
      "17 of 46 environments processed (Indoleacetic_Acid) | Normalization type : og.\n",
      "18 of 46 environments processed (Lactate) | Normalization type : og.\n",
      "19 of 46 environments processed (Lactose) | Normalization type : og.\n",
      "20 of 46 environments processed (Lithium_Chloride) | Normalization type : og.\n",
      "21 of 46 environments processed (Magnesium_Chloride) | Normalization type : og.\n",
      "22 of 46 environments processed (Magnesium_Sulfate) | Normalization type : og.\n",
      "23 of 46 environments processed (Maltose) | Normalization type : og.\n",
      "24 of 46 environments processed (Mannose) | Normalization type : og.\n",
      "25 of 46 environments processed (Menadione) | Normalization type : og.\n",
      "26 of 46 environments processed (Neomycin) | Normalization type : og.\n",
      "27 of 46 environments processed (Paraquat) | Normalization type : og.\n",
      "28 of 46 environments processed (Raffinose) | Normalization type : og.\n",
      "29 of 46 environments processed (SDS) | Normalization type : og.\n",
      "30 of 46 environments processed (Sorbitol) | Normalization type : og.\n",
      "31 of 46 environments processed (Trehalose) | Normalization type : og.\n",
      "32 of 46 environments processed (Tunicamycin) | Normalization type : og.\n",
      "33 of 46 environments processed (x4-Hydroxybenzaldehyde) | Normalization type : og.\n",
      "34 of 46 environments processed (x4NQO) | Normalization type : og.\n",
      "35 of 46 environments processed (x5-Fluorocytosine) | Normalization type : og.\n",
      "36 of 46 environments processed (x5-Fluorouracil) | Normalization type : og.\n",
      "37 of 46 environments processed (x6-Azauracil) | Normalization type : og.\n",
      "38 of 46 environments processed (Xylose) | Normalization type : og.\n",
      "39 of 46 environments processed (YNB) | Normalization type : og.\n",
      "40 of 46 environments processed (YNB:ph3) | Normalization type : og.\n",
      "41 of 46 environments processed (YNB:ph8) | Normalization type : og.\n",
      "42 of 46 environments processed (YPD) | Normalization type : og.\n",
      "43 of 46 environments processed (YPD:15C) | Normalization type : og.\n",
      "44 of 46 environments processed (YPD:37C) | Normalization type : og.\n",
      "45 of 46 environments processed (YPD:4C) | Normalization type : og.\n",
      "46 of 46 environments processed (Zeocin) | Normalization type : og.\n"
     ]
    }
   ],
   "source": [
    "import numpy as np\n",
    "import tensorflow as tf\n",
    "from tensorflow import keras\n",
    "from tensorflow.keras import layers\n",
    "from tensorflow.keras import optimizers\n",
    "from models import create_mlp, create_cnn\n",
    "from preprocess import load_n_pre\n",
    "import matplotlib.pyplot as plt\n",
    "from scipy.stats import pearsonr\n",
    "from geno_2_img import *\n",
    "\n",
    "# load data\n",
    "test_size = .1\n",
    "X_train, X_test, y_train, y_test, env_train, env_test = load_n_pre(\"../data/yeast/geno.txt\", \"../data/yeast/feno.txt\", \n",
    "                                                                    norm_mode=\"og\", test_size = .1)"
   ]
  },
  {
   "cell_type": "code",
   "execution_count": null,
   "metadata": {
    "colab": {
     "base_uri": "https://localhost:8080/",
     "height": 329
    },
    "colab_type": "code",
    "id": "c_3RWe8KU7p8",
    "outputId": "c424996e-3b2a-4740-97d4-c2d174825c6a"
   },
   "outputs": [
    {
     "name": "stdout",
     "output_type": "stream",
     "text": [
      "Transformation parameters\n",
      "-------------------------\n",
      "2D method:  fermat\n",
      "Image shape:  (200, 200)\n",
      "Interpolation mode:  mean\n",
      "Imputation value:  -1\n",
      "Normalization mode:  whole\n",
      "calculating euclidean distances\n",
      "calculating fermat approx distances\n",
      "fitting TSNE\n",
      "Max overlapping features:  1\n",
      "0 of 39530 samples transformed. Time elapsed: 0 sec.\n",
      "250 of 39530 samples transformed. Time elapsed: 18 sec.\n",
      "500 of 39530 samples transformed. Time elapsed: 36 sec.\n",
      "750 of 39530 samples transformed. Time elapsed: 55 sec.\n",
      "1000 of 39530 samples transformed. Time elapsed: 73 sec.\n",
      "1250 of 39530 samples transformed. Time elapsed: 91 sec.\n",
      "1500 of 39530 samples transformed. Time elapsed: 109 sec.\n",
      "1750 of 39530 samples transformed. Time elapsed: 127 sec.\n",
      "2000 of 39530 samples transformed. Time elapsed: 145 sec.\n",
      "2250 of 39530 samples transformed. Time elapsed: 164 sec.\n",
      "2500 of 39530 samples transformed. Time elapsed: 182 sec.\n",
      "2750 of 39530 samples transformed. Time elapsed: 200 sec.\n",
      "3000 of 39530 samples transformed. Time elapsed: 218 sec.\n",
      "3250 of 39530 samples transformed. Time elapsed: 236 sec.\n",
      "3500 of 39530 samples transformed. Time elapsed: 254 sec.\n",
      "3750 of 39530 samples transformed. Time elapsed: 273 sec.\n",
      "4000 of 39530 samples transformed. Time elapsed: 291 sec.\n",
      "4250 of 39530 samples transformed. Time elapsed: 309 sec.\n",
      "4500 of 39530 samples transformed. Time elapsed: 327 sec.\n",
      "4750 of 39530 samples transformed. Time elapsed: 345 sec.\n",
      "5000 of 39530 samples transformed. Time elapsed: 362 sec.\n",
      "5250 of 39530 samples transformed. Time elapsed: 380 sec.\n",
      "5500 of 39530 samples transformed. Time elapsed: 398 sec.\n",
      "5750 of 39530 samples transformed. Time elapsed: 416 sec.\n",
      "6000 of 39530 samples transformed. Time elapsed: 434 sec.\n",
      "6250 of 39530 samples transformed. Time elapsed: 451 sec.\n",
      "6500 of 39530 samples transformed. Time elapsed: 469 sec.\n",
      "6750 of 39530 samples transformed. Time elapsed: 488 sec.\n",
      "7000 of 39530 samples transformed. Time elapsed: 506 sec.\n",
      "7250 of 39530 samples transformed. Time elapsed: 524 sec.\n",
      "7500 of 39530 samples transformed. Time elapsed: 542 sec.\n",
      "7750 of 39530 samples transformed. Time elapsed: 560 sec.\n",
      "8000 of 39530 samples transformed. Time elapsed: 578 sec.\n",
      "8250 of 39530 samples transformed. Time elapsed: 596 sec.\n",
      "8500 of 39530 samples transformed. Time elapsed: 614 sec.\n",
      "8750 of 39530 samples transformed. Time elapsed: 633 sec.\n",
      "9000 of 39530 samples transformed. Time elapsed: 651 sec.\n",
      "9250 of 39530 samples transformed. Time elapsed: 669 sec.\n",
      "9500 of 39530 samples transformed. Time elapsed: 687 sec.\n",
      "9750 of 39530 samples transformed. Time elapsed: 705 sec.\n",
      "10000 of 39530 samples transformed. Time elapsed: 724 sec.\n",
      "10250 of 39530 samples transformed. Time elapsed: 742 sec.\n",
      "10500 of 39530 samples transformed. Time elapsed: 760 sec.\n",
      "10750 of 39530 samples transformed. Time elapsed: 778 sec.\n",
      "11000 of 39530 samples transformed. Time elapsed: 795 sec.\n",
      "11250 of 39530 samples transformed. Time elapsed: 812 sec.\n",
      "11500 of 39530 samples transformed. Time elapsed: 830 sec.\n",
      "11750 of 39530 samples transformed. Time elapsed: 847 sec.\n",
      "12000 of 39530 samples transformed. Time elapsed: 865 sec.\n",
      "12250 of 39530 samples transformed. Time elapsed: 883 sec.\n",
      "12500 of 39530 samples transformed. Time elapsed: 901 sec.\n",
      "12750 of 39530 samples transformed. Time elapsed: 919 sec.\n",
      "13000 of 39530 samples transformed. Time elapsed: 937 sec.\n",
      "13250 of 39530 samples transformed. Time elapsed: 955 sec.\n",
      "13500 of 39530 samples transformed. Time elapsed: 973 sec.\n",
      "13750 of 39530 samples transformed. Time elapsed: 992 sec.\n",
      "14000 of 39530 samples transformed. Time elapsed: 1010 sec.\n",
      "14250 of 39530 samples transformed. Time elapsed: 1028 sec.\n",
      "14500 of 39530 samples transformed. Time elapsed: 1046 sec.\n",
      "14750 of 39530 samples transformed. Time elapsed: 1065 sec.\n",
      "15000 of 39530 samples transformed. Time elapsed: 1083 sec.\n",
      "15250 of 39530 samples transformed. Time elapsed: 1101 sec.\n",
      "15500 of 39530 samples transformed. Time elapsed: 1120 sec.\n",
      "15750 of 39530 samples transformed. Time elapsed: 1139 sec.\n",
      "16000 of 39530 samples transformed. Time elapsed: 1161 sec.\n",
      "16250 of 39530 samples transformed. Time elapsed: 1180 sec.\n",
      "16500 of 39530 samples transformed. Time elapsed: 1199 sec.\n",
      "16750 of 39530 samples transformed. Time elapsed: 1218 sec.\n",
      "17000 of 39530 samples transformed. Time elapsed: 1236 sec.\n",
      "17250 of 39530 samples transformed. Time elapsed: 1256 sec.\n",
      "17500 of 39530 samples transformed. Time elapsed: 1274 sec.\n",
      "17750 of 39530 samples transformed. Time elapsed: 1293 sec.\n",
      "18000 of 39530 samples transformed. Time elapsed: 1312 sec.\n",
      "18250 of 39530 samples transformed. Time elapsed: 1331 sec.\n",
      "18500 of 39530 samples transformed. Time elapsed: 1349 sec.\n",
      "18750 of 39530 samples transformed. Time elapsed: 1368 sec.\n",
      "19000 of 39530 samples transformed. Time elapsed: 1387 sec.\n",
      "19250 of 39530 samples transformed. Time elapsed: 1406 sec.\n",
      "19500 of 39530 samples transformed. Time elapsed: 1424 sec.\n",
      "19750 of 39530 samples transformed. Time elapsed: 1441 sec.\n",
      "20000 of 39530 samples transformed. Time elapsed: 1459 sec.\n",
      "20250 of 39530 samples transformed. Time elapsed: 1477 sec.\n",
      "20500 of 39530 samples transformed. Time elapsed: 1495 sec.\n",
      "20750 of 39530 samples transformed. Time elapsed: 1513 sec.\n",
      "21000 of 39530 samples transformed. Time elapsed: 1531 sec.\n",
      "21250 of 39530 samples transformed. Time elapsed: 1549 sec.\n",
      "21500 of 39530 samples transformed. Time elapsed: 1567 sec.\n",
      "21750 of 39530 samples transformed. Time elapsed: 1585 sec.\n",
      "22000 of 39530 samples transformed. Time elapsed: 1603 sec.\n",
      "22250 of 39530 samples transformed. Time elapsed: 1621 sec.\n",
      "22500 of 39530 samples transformed. Time elapsed: 1638 sec.\n",
      "22750 of 39530 samples transformed. Time elapsed: 1656 sec.\n",
      "23000 of 39530 samples transformed. Time elapsed: 1674 sec.\n",
      "23250 of 39530 samples transformed. Time elapsed: 1692 sec.\n",
      "23500 of 39530 samples transformed. Time elapsed: 1710 sec.\n",
      "23750 of 39530 samples transformed. Time elapsed: 1729 sec.\n",
      "24000 of 39530 samples transformed. Time elapsed: 1748 sec.\n",
      "24250 of 39530 samples transformed. Time elapsed: 1768 sec.\n",
      "24500 of 39530 samples transformed. Time elapsed: 1788 sec.\n",
      "24750 of 39530 samples transformed. Time elapsed: 1807 sec.\n",
      "25000 of 39530 samples transformed. Time elapsed: 1827 sec.\n",
      "25250 of 39530 samples transformed. Time elapsed: 1847 sec.\n",
      "25500 of 39530 samples transformed. Time elapsed: 1865 sec.\n",
      "25750 of 39530 samples transformed. Time elapsed: 1883 sec.\n",
      "26000 of 39530 samples transformed. Time elapsed: 1902 sec.\n",
      "26250 of 39530 samples transformed. Time elapsed: 1920 sec.\n",
      "26500 of 39530 samples transformed. Time elapsed: 1938 sec.\n",
      "26750 of 39530 samples transformed. Time elapsed: 1958 sec.\n",
      "27000 of 39530 samples transformed. Time elapsed: 1977 sec.\n",
      "27250 of 39530 samples transformed. Time elapsed: 1996 sec.\n",
      "27500 of 39530 samples transformed. Time elapsed: 2014 sec.\n",
      "27750 of 39530 samples transformed. Time elapsed: 2033 sec.\n",
      "28000 of 39530 samples transformed. Time elapsed: 2051 sec.\n",
      "28250 of 39530 samples transformed. Time elapsed: 2070 sec.\n",
      "28500 of 39530 samples transformed. Time elapsed: 2089 sec.\n",
      "28750 of 39530 samples transformed. Time elapsed: 2108 sec.\n",
      "29000 of 39530 samples transformed. Time elapsed: 2127 sec.\n",
      "29250 of 39530 samples transformed. Time elapsed: 2145 sec.\n",
      "29500 of 39530 samples transformed. Time elapsed: 2164 sec.\n",
      "29750 of 39530 samples transformed. Time elapsed: 2183 sec.\n",
      "30000 of 39530 samples transformed. Time elapsed: 2202 sec.\n",
      "30250 of 39530 samples transformed. Time elapsed: 2221 sec.\n",
      "30500 of 39530 samples transformed. Time elapsed: 2240 sec.\n",
      "30750 of 39530 samples transformed. Time elapsed: 2259 sec.\n",
      "31000 of 39530 samples transformed. Time elapsed: 2278 sec.\n",
      "31250 of 39530 samples transformed. Time elapsed: 2297 sec.\n",
      "31500 of 39530 samples transformed. Time elapsed: 2315 sec.\n",
      "31750 of 39530 samples transformed. Time elapsed: 2334 sec.\n",
      "32000 of 39530 samples transformed. Time elapsed: 2353 sec.\n"
     ]
    }
   ],
   "source": [
    "img_shape = (200, 200)\n",
    "X_train_img, X_test_img = transform_train_test(X_train[:,-10:], X_test[:,-10:], img_shape = img_shape, norm = \"whole\",\n",
    "                                               method = \"fermat\")"
   ]
  },
  {
   "cell_type": "code",
   "execution_count": null,
   "metadata": {
    "colab": {
     "base_uri": "https://localhost:8080/",
     "height": 601
    },
    "colab_type": "code",
    "id": "W6EOyizCOKFg",
    "outputId": "5cc41e3f-4387-4222-8f81-67fe8188e5b0"
   },
   "outputs": [],
   "source": [
    "for i in range(10):\n",
    "    plt.figure(figsize = (10, 10))\n",
    "    plt.imshow(X_train_img[i, :, :], cmap = \"gray\")\n",
    "    plt.colorbar()\n",
    "    plt.savefig( f\"output/yeast_fermat_{i}\", transparent=True,dpi=300)\n",
    "    plt.show()"
   ]
  },
  {
   "cell_type": "code",
   "execution_count": null,
   "metadata": {
    "colab": {},
    "colab_type": "code",
    "id": "uG5Wn6_t-BXn"
   },
   "outputs": [],
   "source": [
    "R2_nati = np.array([0.797, 0.250, 0.268, 0.338, 0.460, 0.504, 0.456, 0.529, \n",
    "           0.498, 0.412, 0.518, 0.350, 0.235, 0.399, 0.225, 0.336, \n",
    "           0.480, 0.568, 0.582, 0.711, 0.278, 0.519, 0.809, 0.255, \n",
    "           0.432, 0.614, 0.496, 0.383, 0.411, 0.424, 0.515, 0.634, \n",
    "           0.471, 0.636, 0.397, 0.552, 0.315, 0.516, 0.543, 0.195, \n",
    "           0.356, 0.556, 0.432, 0.711, 0.485, 0.495])\n",
    "def plot_learning(hist):\n",
    "    \n",
    "    plt.figure()\n",
    "    plt.plot(hist.history[\"loss\"])\n",
    "    plt.plot(hist.history[\"val_loss\"])\n",
    "    plt.legend([\"train\", \"val\"])\n",
    "    plt.xlabel(\"epoch\")\n",
    "    plt.ylabel(\"mse\")\n",
    "    plt.grid(axis = \"y\")\n",
    "    plt.title(\"Learning plot\")\n",
    "\n",
    "def test_results(model, X_test, env_test, y_test, R2_nati = R2_nati, max_env = 46):\n",
    "    \n",
    "    y_pred = model.predict({\"geno\" : X_test, \"env\" : env_test})\n",
    "    metrics = {\"r2\" : [],\n",
    "               \"best_r2_nati\" : R2_nati[[17, 18, 29, 37]],\n",
    "               \"mse\" : []}\n",
    "    #target = [17, 18, 29, 37]\n",
    "    for env in range(max_env):#target:\n",
    "        y_pred_e = y_pred[np.where(env_test[:, env] == 1)].reshape((-1,))\n",
    "        y_test_e = y_test[np.where(env_test[:, env] == 1)].reshape((-1,))\n",
    "        metrics[\"r2\"].append(np.round(pearsonr(y_pred_e, y_test_e)[0]**2, 3))\n",
    "        metrics[\"mse\"].append(np.mean((y_pred_e - y_test_e)**2))\n",
    "    \n",
    "    return pd.DataFrame(metrics, index = [\"Lactate\", \"Lactose\", \"Sorbitol\", \"Xylose\"])\n",
    "\n",
    "def choose_env(X, envs, target_envs):\n",
    "    env = envs[:,target_envs]\n",
    "    count = 0\n",
    "    for j in range(len(target_envs)):\n",
    "        X_env = X[np.where(env[:, j] == 1)]\n",
    "        env_env = env[np.where(env[:, j] == 1)]\n",
    "        if count ==0:\n",
    "            X_out = X_env\n",
    "            env_out = env_env\n",
    "        else:\n",
    "            X_out = np.concatenate((X_out, X_env))\n",
    "            env_out = np.concatenate((env_out, env_env))\n",
    "        count+=1\n",
    "    return X_out, env_out\n",
    "\n",
    "X_train_img_filt, env_train_filt = choose_env(X_train_img, env_train, target_envs=[17, 18, 29, 37])\n",
    "X_test_img_filt, env_test_filt = choose_env(X_test_img, env_test, target_envs=[17, 18, 29, 37])"
   ]
  },
  {
   "cell_type": "code",
   "execution_count": null,
   "metadata": {},
   "outputs": [],
   "source": [
    "np.save()"
   ]
  },
  {
   "cell_type": "code",
   "execution_count": null,
   "metadata": {
    "colab": {
     "base_uri": "https://localhost:8080/",
     "height": 1000
    },
    "colab_type": "code",
    "id": "FJu37V1G-GnI",
    "outputId": "b8dd628b-5105-4f68-e394-ca31f7ea72e7"
   },
   "outputs": [],
   "source": [
    "cnn = create_cnn(img_height = img_shape[0], img_width = img_shape[1], filters = [2, 4, 8, 16], \n",
    "                 kernel_sizes = [2, 4, 8, 10], strides = [2, 2, 2, 2], final_sizes = [8, 4], dropout = .25)\n",
    "\n",
    "Inp = layers.Input((env_train.shape[1], ))\n",
    "conc = layers.concatenate([Inp, cnn.output])\n",
    "\n",
    "x = layers.Dense(4, activation=\"relu\")(conc)\n",
    "x = layers.Dense(1, activation=\"linear\")(x)\n",
    "\n",
    "model = keras.Model(inputs = [Inp, cnn.input], outputs = x)\n",
    "\n",
    "opt = optimizers.Adam(lr = 0.0005, decay = 1e-3/200, epsilon = .1)\n",
    "model.compile(loss = \"mse\", optimizer = opt)\n",
    "\n",
    "model.summary()"
   ]
  },
  {
   "cell_type": "code",
   "execution_count": null,
   "metadata": {
    "colab": {
     "base_uri": "https://localhost:8080/",
     "height": 1000
    },
    "colab_type": "code",
    "id": "i4SIB_lFLyiJ",
    "outputId": "6ed7b384-6d6e-4964-8950-a6e24d839883"
   },
   "outputs": [],
   "source": [
    "h = model.fit(x = [env_train, X_train_img], y = y_train, \n",
    "              validation_data = ([env_test, X_test_img], y_test),\n",
    "\t            epochs = 10000, batch_size = 128)"
   ]
  },
  {
   "cell_type": "code",
   "execution_count": null,
   "metadata": {
    "colab": {
     "base_uri": "https://localhost:8080/",
     "height": 295
    },
    "colab_type": "code",
    "id": "bBmzWt5TSakV",
    "outputId": "c65bee57-460b-4d25-c458-137545649e60"
   },
   "outputs": [],
   "source": [
    "plot_learning(h)"
   ]
  },
  {
   "cell_type": "code",
   "execution_count": null,
   "metadata": {
    "colab": {
     "base_uri": "https://localhost:8080/",
     "height": 171
    },
    "colab_type": "code",
    "id": "o-NNAcBLS-xt",
    "outputId": "27c13af0-accd-406d-fc11-ff42e0d2782e"
   },
   "outputs": [],
   "source": [
    "results = test_results(model, X_test_img, env_test, y_test, max_env = 4); results"
   ]
  },
  {
   "cell_type": "code",
   "execution_count": null,
   "metadata": {},
   "outputs": [],
   "source": [
    "model.save('fermat_yeast_model.h5')"
   ]
  },
  {
   "cell_type": "code",
   "execution_count": null,
   "metadata": {
    "colab": {},
    "colab_type": "code",
    "id": "1FUqTcUqpsag"
   },
   "outputs": [],
   "source": [
    "l_rand = h.history[\"val_loss\"]"
   ]
  },
  {
   "cell_type": "code",
   "execution_count": null,
   "metadata": {
    "colab": {},
    "colab_type": "code",
    "id": "cupETvU3uI7l"
   },
   "outputs": [],
   "source": [
    "l_tsne = h.history[\"val_loss\"]"
   ]
  },
  {
   "cell_type": "code",
   "execution_count": null,
   "metadata": {
    "colab": {
     "base_uri": "https://localhost:8080/",
     "height": 35
    },
    "colab_type": "code",
    "id": "4j_Qn0JHUpmc",
    "outputId": "a6e719d7-a3ce-4eda-8a54-74ae9db3e99e"
   },
   "outputs": [],
   "source": [
    "h.history.keys()"
   ]
  },
  {
   "cell_type": "code",
   "execution_count": null,
   "metadata": {
    "colab": {
     "base_uri": "https://localhost:8080/",
     "height": 503
    },
    "colab_type": "code",
    "id": "BKw-Wg4mzINl",
    "outputId": "64900555-badc-4b32-9a1f-5c424c2d0d1b"
   },
   "outputs": [],
   "source": [
    "'''\n",
    "plt.figure(figsize = (12.5, 7.5))\n",
    "for l in [l_rand, l_tsne, l_kpca]:\n",
    "  plt.plot(l)\n",
    "plt.grid(axis = \"y\")\n",
    "plt.title(\"validation loss per epoch\")\n",
    "plt.xlabel(\"epoch\")\n",
    "plt.ylabel(\"val. mse\")\n",
    "plt.legend([\"random\", \"tsne\", \"kpca\"])\n",
    "'''"
   ]
  },
  {
   "cell_type": "code",
   "execution_count": null,
   "metadata": {
    "colab": {},
    "colab_type": "code",
    "id": "VbUV8fhusUGz"
   },
   "outputs": [],
   "source": [
    "'''\n",
    "l_kpca = h.history[\"val_loss\"]\n",
    "'''"
   ]
  },
  {
   "cell_type": "code",
   "execution_count": null,
   "metadata": {
    "colab": {},
    "colab_type": "code",
    "id": "UcbiKGRjU4Hr"
   },
   "outputs": [],
   "source": [
    "del(model)\n",
    "x = keras.layers.Flatten()(Res.output)\n",
    "x = keras.layers.BatchNormalization(axis = -1)(x)\n",
    "x = keras.layers.Dropout(rate = .33)(x)\n",
    "x = keras.layers.Dense(32, activation = \"relu\")(x)\n",
    "x = keras.layers.Dense(16, activation = \"relu\")(x)\n",
    "x = keras.layers.Dense(8, activation = \"relu\")(x)\n",
    "x = keras.layers.Dense(4, activation = \"relu\")(x)\n",
    "conc = keras.layers.concatenate([Inp, x])\n",
    "x = keras.layers.Dense(4, activation = \"relu\")(conc)\n",
    "x = keras.layers.Dense(1, activation = \"linear\")(x)\n",
    "\n",
    "model = keras.Model(inputs = [Inp, Res.input], outputs = x)\n",
    "\n",
    "opt = optimizers.Adam(lr = 0.0005, decay = 1e-3/200, epsilon = .1)\n",
    "model.compile(loss = \"mse\", optimizer = opt)\n",
    "\n",
    "model.summary()"
   ]
  },
  {
   "cell_type": "code",
   "execution_count": null,
   "metadata": {
    "colab": {},
    "colab_type": "code",
    "id": "Oco9_QbZbjbx"
   },
   "outputs": [],
   "source": [
    "h = model.fit(x = [env_train, X_train_res], y = y_train, \n",
    "              validation_data = ([env_test, X_test_res], y_test),\n",
    "\t            epochs = 100, batch_size = 64)"
   ]
  }
 ],
 "metadata": {
  "accelerator": "GPU",
  "colab": {
   "collapsed_sections": [],
   "name": "Untitled7.ipynb",
   "provenance": []
  },
  "kernelspec": {
   "display_name": "Python 3",
   "language": "python",
   "name": "python3"
  },
  "language_info": {
   "codemirror_mode": {
    "name": "ipython",
    "version": 3
   },
   "file_extension": ".py",
   "mimetype": "text/x-python",
   "name": "python",
   "nbconvert_exporter": "python",
   "pygments_lexer": "ipython3",
   "version": "3.7.7"
  }
 },
 "nbformat": 4,
 "nbformat_minor": 1
}
